{
 "cells": [
  {
   "cell_type": "markdown",
   "metadata": {},
   "source": [
    "# SVD/PCA\n",
    "## Ahmed Ben Saad"
   ]
  },
  {
   "cell_type": "code",
   "execution_count": 227,
   "metadata": {},
   "outputs": [
    {
     "data": {
      "text/plain": [
       "'sd204_lab2_ben saad_ahmed.ipynb'"
      ]
     },
     "execution_count": 227,
     "metadata": {},
     "output_type": "execute_result"
    }
   ],
   "source": [
    "fn1 = \"Ahmed\"\n",
    "ln1 = \"Ben Saad\"\n",
    "filename = \"_\".join(map(lambda s: s.strip().lower(),\n",
    "                        [\"SD204_lab2\", ln1, fn1])) + \".ipynb\"\n",
    "filename"
   ]
  },
  {
   "cell_type": "code",
   "execution_count": 228,
   "metadata": {
    "collapsed": true
   },
   "outputs": [],
   "source": [
    "import numpy as np\n",
    "import time\n",
    "from math import *\n",
    "import matplotlib.pyplot as plt"
   ]
  },
  {
   "cell_type": "markdown",
   "metadata": {},
   "source": [
    "## Exercise 1:"
   ]
  },
  {
   "cell_type": "markdown",
   "metadata": {},
   "source": [
    "### 1)"
   ]
  },
  {
   "cell_type": "code",
   "execution_count": 229,
   "metadata": {
    "collapsed": true
   },
   "outputs": [],
   "source": [
    "lam = 1e-5\n",
    "\n",
    "\n",
    "def verif(n, p):\n",
    "    In = np.eye(n)\n",
    "    Ip = np.eye(p)\n",
    "    X = np.random.normal(0, 5, (n, p))\n",
    "    Xt = np.transpose(X)\n",
    "    Y = np.random.uniform(-1, 1, (n, 1))\n",
    "    A = np.dot(np.dot(np.dot(Xt, X) + lam * Ip, Xt), Y)\n",
    "    B = np.dot(np.dot(Xt, np.dot(X, Xt) + lam * In), Y)\n",
    "    return(np.allclose(A, B))"
   ]
  },
  {
   "cell_type": "code",
   "execution_count": 230,
   "metadata": {},
   "outputs": [
    {
     "data": {
      "text/plain": [
       "True"
      ]
     },
     "execution_count": 230,
     "metadata": {},
     "output_type": "execute_result"
    }
   ],
   "source": [
    "verif(100, 2000)"
   ]
  },
  {
   "cell_type": "code",
   "execution_count": 231,
   "metadata": {},
   "outputs": [
    {
     "data": {
      "text/plain": [
       "True"
      ]
     },
     "execution_count": 231,
     "metadata": {},
     "output_type": "execute_result"
    }
   ],
   "source": [
    "verif(2000, 100)"
   ]
  },
  {
   "cell_type": "markdown",
   "metadata": {},
   "source": [
    "### 2)"
   ]
  },
  {
   "cell_type": "code",
   "execution_count": 232,
   "metadata": {
    "collapsed": true
   },
   "outputs": [],
   "source": [
    "def ridgeTester(n, p):\n",
    "    X = np.random.normal(0, 5, (n, p))\n",
    "    Xt = np.transpose(X)\n",
    "    Y = np.random.uniform(-1, 1, (n, 1))\n",
    "\n",
    "    t1 = time.clock()\n",
    "    Ip = np.eye(p)\n",
    "    A = np.dot(np.dot(np.dot(Xt, X) + lam * Ip, Xt), Y)\n",
    "    t2 = time.clock()\n",
    "    T_n = t2 - t1\n",
    "\n",
    "    t3 = time.clock()\n",
    "    In = np.eye(n)\n",
    "    B = np.dot(np.dot(Xt, np.dot(X, Xt) + lam * In), Y)\n",
    "    t4 = time.clock()\n",
    "    T_p = t4 - t3\n",
    "\n",
    "    print(\"for n=\", n, \"and p=\", p)\n",
    "    print(\"eclapsed time for computing the left-hand side of (1): \", T_n)\n",
    "    print(\"eclapsed time for computing the right-hand side of (1): \", T_p)"
   ]
  },
  {
   "cell_type": "code",
   "execution_count": 233,
   "metadata": {},
   "outputs": [
    {
     "name": "stdout",
     "output_type": "stream",
     "text": [
      "('for n=', 100, 'and p=', 2000)\n",
      "('eclapsed time for computing the left-hand side of (1): ', 0.1752819999996973)\n",
      "('eclapsed time for computing the right-hand side of (1): ', 0.005428999999821826)\n"
     ]
    }
   ],
   "source": [
    "ridgeTester(100, 2000)"
   ]
  },
  {
   "cell_type": "code",
   "execution_count": 234,
   "metadata": {},
   "outputs": [
    {
     "name": "stdout",
     "output_type": "stream",
     "text": [
      "('for n=', 2000, 'and p=', 100)\n",
      "('eclapsed time for computing the left-hand side of (1): ', 0.004159999999956199)\n",
      "('eclapsed time for computing the right-hand side of (1): ', 0.21143399999982648)\n"
     ]
    }
   ],
   "source": [
    "ridgeTester(2000, 100)"
   ]
  },
  {
   "cell_type": "markdown",
   "metadata": {},
   "source": [
    "<b> As seen, the equality (1) holds true in a very precise way (1e-5). <br>\n",
    " In order to calculate the ridge estimator, we can use either of them depending on wether $n\\ll p$ or $n\\gg p$. <br>\n",
    " When $n\\ll p$ it is more time efficient to use the left-hand side. <br>\n",
    " When $n\\gg p$ we should use the right-hand one. </b>"
   ]
  },
  {
   "cell_type": "markdown",
   "metadata": {},
   "source": [
    "## Exercise 2:"
   ]
  },
  {
   "cell_type": "markdown",
   "metadata": {},
   "source": [
    "### 1)"
   ]
  },
  {
   "cell_type": "code",
   "execution_count": 235,
   "metadata": {
    "collapsed": true
   },
   "outputs": [],
   "source": [
    "def generate(n, p):\n",
    "    t = (n, p)\n",
    "    X1 = np.random.uniform(-sqrt(6), sqrt(6), t)\n",
    "    X2 = np.random.exponential(sqrt(2), t) - sqrt(2)\n",
    "    X3 = np.random.gamma(2, 1, t) - 2\n",
    "    return(X1, X2, X3)"
   ]
  },
  {
   "cell_type": "code",
   "execution_count": 236,
   "metadata": {
    "scrolled": true
   },
   "outputs": [
    {
     "data": {
      "image/png": "[encoded data removed]",
      "text/plain": [
       "<matplotlib.figure.Figure at 0x7f7963ba7790>"
      ]
     },
     "metadata": {},
     "output_type": "display_data"
    }
   ],
   "source": [
    "P = [200, 500, 1000, 2000]\n",
    "n = 1000\n",
    "for p in P:\n",
    "    X1, X2, X3 = generate(n, p)\n",
    "    S1 = np.linalg.svd(X1, compute_uv=0)\n",
    "    S2 = np.linalg.svd(X2, compute_uv=0)\n",
    "    S3 = np.linalg.svd(X3, compute_uv=0)\n",
    "    plt.figure(1)\n",
    "    plt.subplot(311)\n",
    "    plt.scatter([p] * len(S1), S1)\n",
    "    plt.subplot(312)\n",
    "    plt.scatter([p] * len(S2), S2)\n",
    "    plt.subplot(313)\n",
    "    plt.scatter([p] * len(S3), S3)\n",
    "\n",
    "plt.show()"
   ]
  },
  {
   "cell_type": "markdown",
   "metadata": {},
   "source": [
    "### 3)"
   ]
  },
  {
   "cell_type": "code",
   "execution_count": 237,
   "metadata": {},
   "outputs": [
    {
     "data": {
      "image/png": "[encoded data removed]",
      "text/plain": [
       "<matplotlib.figure.Figure at 0x7f7963c61550>"
      ]
     },
     "metadata": {},
     "output_type": "display_data"
    }
   ],
   "source": [
    "for p in P:\n",
    "    L1, V1 = np.linalg.eig(0.001 * np.dot(np.transpose(X1), X1))\n",
    "    L2, V2 = np.linalg.eig(0.001 * np.dot(np.transpose(X2), X2))\n",
    "    L3, V3 = np.linalg.eig(0.001 * np.dot(np.transpose(X3), X3))\n",
    "    plt.figure(1)\n",
    "    plt.subplot(311)\n",
    "    plt.scatter([p] * len(L1), L1)\n",
    "    plt.subplot(312)\n",
    "    plt.scatter([p] * len(L2), L2)\n",
    "    plt.subplot(313)\n",
    "    plt.scatter([p] * len(L3), L3)\n",
    "\n",
    "plt.show()"
   ]
  },
  {
   "cell_type": "markdown",
   "metadata": {},
   "source": [
    "## Exercise 3:\n",
    "### 1)"
   ]
  },
  {
   "cell_type": "code",
   "execution_count": 247,
   "metadata": {
    "collapsed": true
   },
   "outputs": [],
   "source": [
    "X = np.random.normal(0, 5, (100, 2000))"
   ]
  },
  {
   "cell_type": "code",
   "execution_count": 239,
   "metadata": {
    "collapsed": true
   },
   "outputs": [],
   "source": [
    "def power_method(X, niter, V):\n",
    "    Xt = np.transpose(X)\n",
    "    for i in range(niter):\n",
    "        U = np.dot(X, V)\n",
    "        V = np.dot(Xt, U)\n",
    "        U = 1. / (np.linalg.norm(U)) * U\n",
    "        V = 1. / (np.linalg.norm(V)) * V\n",
    "    return(U, V)"
   ]
  },
  {
   "cell_type": "markdown",
   "metadata": {},
   "source": [
    "### 2)"
   ]
  },
  {
   "cell_type": "code",
   "execution_count": 248,
   "metadata": {},
   "outputs": [
    {
     "data": {
      "image/png": "[encoded data removed]",
      "text/plain": [
       "<matplotlib.figure.Figure at 0x7f7963c43b50>"
      ]
     },
     "metadata": {},
     "output_type": "display_data"
    }
   ],
   "source": [
    "    niter = 800\n",
    "    Ui = np.ones((100, 1))\n",
    "    Vi = np.ones((2000, 1))\n",
    "    Xt = np.transpose(X)\n",
    "    L = [i + 1 for i in range(niter)]\n",
    "    U1, S1, V1 = np.linalg.svd(X)\n",
    "    U = U1[:, 0]\n",
    "    # we took U et V as the left singular vector and the right singular vector\n",
    "    V = V1[0]\n",
    "    LU = []\n",
    "    LV = []\n",
    "    for i in range(niter):\n",
    "        Ui = np.dot(X, Vi)\n",
    "        Vi = np.dot(Xt, Ui)\n",
    "        Ui = (1. / (np.linalg.norm(Ui))) * Ui\n",
    "        Vi = (1. / (np.linalg.norm(Vi))) * Vi\n",
    "        n1 = np.linalg.norm(U - np.transpose((Ui)))\n",
    "        n2 = np.linalg.norm(V - np.transpose(Vi))\n",
    "        LU.append(n1)\n",
    "        LV.append(n2)\n",
    "    plt.figure(2)\n",
    "    plt.subplot(211)\n",
    "    plt.plot(L, LU, label=\"||Ui-U||\")\n",
    "    plt.legend()\n",
    "    plt.subplot(212)\n",
    "    plt.plot(L, LV, '', label=\"||Vi-V||\")\n",
    "    plt.legend()\n",
    "    plt.show()"
   ]
  },
  {
   "cell_type": "markdown",
   "metadata": {},
   "source": [
    "### 3)"
   ]
  },
  {
   "cell_type": "code",
   "execution_count": 249,
   "metadata": {},
   "outputs": [
    {
     "name": "stdout",
     "output_type": "stream",
     "text": [
      "2.0\n",
      "2.0\n"
     ]
    }
   ],
   "source": [
    "V01 = np.ones((2000, 1))\n",
    "V02 = -V01\n",
    "U1, V1 = power_method(X, 800, V01)\n",
    "U2, V2 = power_method(X, 800, V02)\n",
    "print(np.linalg.norm(V1 - V2))\n",
    "print(np.linalg.norm(U1 - U2))\n",
    "\n",
    "# When U1=-U2 and V1=-V2 both sets don't converge to the same vectors (they converge to the opposite set of vectors)"
   ]
  },
  {
   "cell_type": "markdown",
   "metadata": {},
   "source": [
    "### 4)"
   ]
  },
  {
   "cell_type": "code",
   "execution_count": 250,
   "metadata": {},
   "outputs": [
    {
     "name": "stdout",
     "output_type": "stream",
     "text": [
      "('||XtU||=', 272.52420992819515)\n",
      "('||XV||= ', 272.52420992819515)\n",
      "('largest singular value computed with np.linalg.svd: ', 272.52420992819515)\n"
     ]
    }
   ],
   "source": [
    "U, V = power_method(X, 800, V01)\n",
    "sigma = np.linalg.norm(Xt.dot(U))\n",
    "sigma2 = np.linalg.norm(X.dot(V))\n",
    "\n",
    "\n",
    "print(\"||XtU||=\", sigma)\n",
    "print(\"||XV||= \", sigma2)\n",
    "print(\"largest singular value computed with np.linalg.svd: \", S1[0])"
   ]
  },
  {
   "cell_type": "markdown",
   "metadata": {},
   "source": [
    "### 5)"
   ]
  },
  {
   "cell_type": "code",
   "execution_count": 251,
   "metadata": {},
   "outputs": [
    {
     "name": "stdout",
     "output_type": "stream",
     "text": [
      "('Value computed with the method above: ', 268.62622979887152)\n",
      "('Second largest singular value computed with np.linalg.svd: ', 268.62622980118897)\n"
     ]
    }
   ],
   "source": [
    "U, V = power_method(X, 800, V01)\n",
    "Mu = np.zeros((2000, 100))\n",
    "Mv = np.zeros((2000, 2000))\n",
    "V.resize(2000, 2000)\n",
    "U.resize((2000, 100))\n",
    "U = np.transpose(U)\n",
    "X1 = X - S1[0] * np.dot(U, V)\n",
    "U1, V1 = power_method(X1, 800, V01)\n",
    "print(\"Value computed with the method above: \", np.linalg.norm(X1.dot(V1)))\n",
    "print(\"Second largest singular value computed with np.linalg.svd: \", S1[1])"
   ]
  },
  {
   "cell_type": "markdown",
   "metadata": {},
   "source": [
    "## Exercise 4:"
   ]
  },
  {
   "cell_type": "markdown",
   "metadata": {
    "collapsed": true
   },
   "source": [
    "### 1)"
   ]
  },
  {
   "cell_type": "code",
   "execution_count": 252,
   "metadata": {
    "collapsed": true
   },
   "outputs": [],
   "source": [
    "import pandas as pd"
   ]
  },
  {
   "cell_type": "code",
   "execution_count": 253,
   "metadata": {
    "collapsed": true
   },
   "outputs": [],
   "source": [
    "df = pd.read_csv(\n",
    "    \"http://josephsalmon.eu/enseignement/TELECOM/SD204/defra_consumption.csv\", ';')"
   ]
  },
  {
   "cell_type": "markdown",
   "metadata": {},
   "source": [
    "### 2)"
   ]
  },
  {
   "cell_type": "code",
   "execution_count": 254,
   "metadata": {
    "collapsed": true
   },
   "outputs": [],
   "source": [
    "from sklearn import preprocessing"
   ]
  },
  {
   "cell_type": "code",
   "execution_count": 255,
   "metadata": {
    "collapsed": true
   },
   "outputs": [],
   "source": [
    "df_scaled = preprocessing.scale(\n",
    "    df[['England', 'Wales', 'Scotland', 'N Ireland']])\n",
    "df_scaled = df_scaled.T"
   ]
  },
  {
   "cell_type": "markdown",
   "metadata": {},
   "source": [
    "### 3)"
   ]
  },
  {
   "cell_type": "code",
   "execution_count": 256,
   "metadata": {},
   "outputs": [
    {
     "data": {
      "image/png": "[encoded data removed]",
      "text/plain": [
       "<matplotlib.figure.Figure at 0x7f795c5793d0>"
      ]
     },
     "metadata": {},
     "output_type": "display_data"
    }
   ],
   "source": [
    "u, s, v = np.linalg.svd(df_scaled)\n",
    "plt.scatter(np.dot(df_scaled.T, u[0]), np.dot(df_scaled.T, u[1]))\n",
    "plt.show()"
   ]
  },
  {
   "cell_type": "markdown",
   "metadata": {},
   "source": [
    "### 4)"
   ]
  },
  {
   "cell_type": "code",
   "execution_count": 257,
   "metadata": {},
   "outputs": [
    {
     "data": {
      "image/png": "[encoded data removed]",
      "text/plain": [
       "<matplotlib.figure.Figure at 0x7f7963c2b390>"
      ]
     },
     "metadata": {},
     "output_type": "display_data"
    }
   ],
   "source": [
    "from mpl_toolkits.mplot3d import Axes3D\n",
    "fig = plt.figure()\n",
    "ax = fig.add_subplot(111, projection='3d')\n",
    "ax.scatter(np.dot(df_scaled.T, u[0]), np.dot(\n",
    "    df_scaled.T, u[1]), np.dot(df_scaled.T, u[2]))\n",
    "plt.show()"
   ]
  },
  {
   "cell_type": "markdown",
   "metadata": {},
   "source": [
    "### 5)"
   ]
  },
  {
   "cell_type": "code",
   "execution_count": 258,
   "metadata": {
    "scrolled": false
   },
   "outputs": [
    {
     "data": {
      "image/png": "[encoded data removed]",
      "text/plain": [
       "<matplotlib.figure.Figure at 0x7f7960c52190>"
      ]
     },
     "metadata": {},
     "output_type": "display_data"
    }
   ],
   "source": [
    "# (a)\n",
    "t1 = time.clock()\n",
    "\n",
    "XXt = np.dot(df_scaled, np.transpose(df_scaled))\n",
    "# diagonalization\n",
    "eigenValues, eigenVectors = np.linalg.eig(XXt)\n",
    "# sort\n",
    "idx = eigenValues.argsort()[::-1]\n",
    "eigenValues = eigenValues[idx]\n",
    "eigenVectors = eigenVectors[:, idx]\n",
    "\n",
    "t2 = time.clock()\n",
    "# plot 2D\n",
    "plt.scatter(np.dot(df_scaled.T, eigenVectors[:, 0]), np.dot(\n",
    "    df_scaled.T, eigenVectors[:, 1]))\n",
    "plt.show()"
   ]
  },
  {
   "cell_type": "code",
   "execution_count": 259,
   "metadata": {},
   "outputs": [
    {
     "data": {
      "image/png": "[encoded data removed]",
      "text/plain": [
       "<matplotlib.figure.Figure at 0x7f795c709850>"
      ]
     },
     "metadata": {},
     "output_type": "display_data"
    }
   ],
   "source": [
    "# plot 3D\n",
    "\n",
    "fig = plt.figure()\n",
    "ax = fig.add_subplot(111, projection='3d')\n",
    "ax.scatter(np.dot(df_scaled.T, eigenVectors[:, 0]), np.dot(\n",
    "    df_scaled.T, eigenVectors[:, 1]), np.dot(df_scaled.T, eigenVectors[:, 2]))\n",
    "plt.show()"
   ]
  },
  {
   "cell_type": "code",
   "execution_count": 260,
   "metadata": {},
   "outputs": [
    {
     "data": {
      "image/png": "[encoded data removed]",
      "text/plain": [
       "<matplotlib.figure.Figure at 0x7f795c871ad0>"
      ]
     },
     "metadata": {},
     "output_type": "display_data"
    }
   ],
   "source": [
    "# (b)\n",
    "from sklearn.decomposition import TruncatedSVD\n",
    "t3 = time.clock()\n",
    "truncSVD = TruncatedSVD(3)\n",
    "df1 = truncSVD.fit_transform(df_scaled.T)\n",
    "t4 = time.clock()\n",
    "# plot 2D\n",
    "plt.scatter(df1[:, 0], df1[:, 1])\n",
    "plt.show()"
   ]
  },
  {
   "cell_type": "code",
   "execution_count": 261,
   "metadata": {},
   "outputs": [
    {
     "data": {
      "image/png": "[encoded data removed]",
      "text/plain": [
       "<matplotlib.figure.Figure at 0x7f7963c2e810>"
      ]
     },
     "metadata": {},
     "output_type": "display_data"
    }
   ],
   "source": [
    "# plot 3D\n",
    "fig = plt.figure()\n",
    "ax = fig.add_subplot(111, projection='3d')\n",
    "ax.scatter(df1[:, 0], df1[:, 1], df1[:, 2])\n",
    "plt.show()"
   ]
  },
  {
   "cell_type": "code",
   "execution_count": 262,
   "metadata": {},
   "outputs": [
    {
     "name": "stdout",
     "output_type": "stream",
     "text": [
      "eclapsed time with eigenVectors method:  0.00129500000003\n",
      "eclapsed time with SVD decomposition method:  0.00241899999992\n"
     ]
    }
   ],
   "source": [
    "# Evaluating time\n",
    "delta_t_eigen = t2 - t1\n",
    "delta_t_svd = t4 - t3\n",
    "print \"eclapsed time with eigenVectors method: \", delta_t_eigen\n",
    "print \"eclapsed time with SVD decomposition method: \", delta_t_svd"
   ]
  },
  {
   "cell_type": "markdown",
   "metadata": {},
   "source": [
    "## Exercise 5:"
   ]
  },
  {
   "cell_type": "code",
   "execution_count": 319,
   "metadata": {},
   "outputs": [
    {
     "name": "stdout",
     "output_type": "stream",
     "text": [
      " Total dataset size:\n",
      "n_samples: 1288\n",
      "n_features: 1850\n",
      "n_classes: 7\n"
     ]
    }
   ],
   "source": [
    "from sklearn.datasets import fetch_lfw_people\n",
    "# Download the data, if not already on disk and load it as numpy arrays\n",
    "lfw_people = fetch_lfw_people(min_faces_per_person=70, resize=0.4)\n",
    "# introspect the images arrays to find the shapes (for plotting)\n",
    "n_samples, h, w = lfw_people.images.shape\n",
    "X = lfw_people.data\n",
    "n_features = X.shape[1]\n",
    "# the label to predict is the id of the person\n",
    "y = lfw_people.target\n",
    "target_names = lfw_people.target_names\n",
    "n_classes = target_names.shape[0]\n",
    "print(\"Total dataset size:\")\n",
    "print(\"n_samples: %d\" % n_samples)\n",
    "print(\"n_features: %d\" % n_features)\n",
    "print(\"n_classes: %d\" % n_classes)"
   ]
  },
  {
   "cell_type": "markdown",
   "metadata": {},
   "source": [
    "### 1)"
   ]
  },
  {
   "cell_type": "markdown",
   "metadata": {},
   "source": [
    "<b> This dataset is a set of images associated to famous persons collected in the internet. <br>\n",
    "There are 1288 samples and 1850 features. features are the images' pixels.</b>"
   ]
  },
  {
   "cell_type": "markdown",
   "metadata": {},
   "source": [
    "### 2)"
   ]
  },
  {
   "cell_type": "code",
   "execution_count": 308,
   "metadata": {},
   "outputs": [
    {
     "name": "stdout",
     "output_type": "stream",
     "text": [
      "\n"
     ]
    }
   ],
   "source": [
    "from sklearn.decomposition import PCA\n",
    "from sklearn import linear_model\n",
    "from sklearn.model_selection import train_test_split\n",
    "from sklearn.preprocessing import scale"
   ]
  },
  {
   "cell_type": "markdown",
   "metadata": {},
   "source": [
    "#### a) "
   ]
  },
  {
   "cell_type": "code",
   "execution_count": 336,
   "metadata": {
    "collapsed": true
   },
   "outputs": [],
   "source": [
    "def get_accuracy_PCA(n_components):\n",
    "\n",
    "    # scaling data\n",
    "\n",
    "    X_scaled = scale(X)\n",
    "\n",
    "    # perform PCA as requiered\n",
    "\n",
    "    pca = PCA(n_components)\n",
    "\n",
    "    df_PCA = pca.fit_transform(X_scaled)\n",
    "\n",
    "    # split the dataset into training set and test set\n",
    "    X_train, X_test, Y_train, Y_test = train_test_split(\n",
    "        df_PCA, y, test_size=0.3, random_state=777)\n",
    "\n",
    "    # logistic regression\n",
    "    logreg = linear_model.LogisticRegression(random_state=5)\n",
    "    logreg.fit(X_train, Y_train)\n",
    "\n",
    "    # compute the accuracy\n",
    "    accuracy = logreg.score(X_test, Y_test)\n",
    "    return accuracy"
   ]
  },
  {
   "cell_type": "code",
   "execution_count": 337,
   "metadata": {},
   "outputs": [
    {
     "name": "stdout",
     "output_type": "stream",
     "text": [
      "accuracy using PCA with an explained variance of 95%:  0.793281653747\n"
     ]
    }
   ],
   "source": [
    "print \"accuracy using PCA with an explained variance of 95%: \", get_accuracy_PCA(0.95)"
   ]
  },
  {
   "cell_type": "markdown",
   "metadata": {},
   "source": [
    "#### b)"
   ]
  },
  {
   "cell_type": "code",
   "execution_count": 338,
   "metadata": {
    "collapsed": true
   },
   "outputs": [],
   "source": [
    "from sklearn.feature_selection import SelectKBest\n",
    "from sklearn.feature_selection import SelectPercentile"
   ]
  },
  {
   "cell_type": "code",
   "execution_count": 339,
   "metadata": {
    "collapsed": true
   },
   "outputs": [],
   "source": [
    "from sklearn.model_selection import cross_val_score"
   ]
  },
  {
   "cell_type": "code",
   "execution_count": 340,
   "metadata": {
    "collapsed": true
   },
   "outputs": [],
   "source": [
    "def find_best_n_components():\n",
    "    pipe = Pipeline([('pca', pca), ('regmod', logreg)])\n",
    "    # number of CVs to be performed (fixed at 10 in the beginning but changed to 3 for less computing time)\n",
    "    K = 3\n",
    "\n",
    "    pred_error = [0 for i in range(150)]\n",
    "    pred_error_means = [0 for i in range(150)]\n",
    "    # limiting the tested n_components due to execution time\n",
    "    n_values = [121 + 2 * i for i in range(10)]\n",
    "    k = 0\n",
    "    for i in n_values:\n",
    "        k += 1\n",
    "        pred_error[i] = cross_val_score(pipe.set_params(\n",
    "            pca__n_components=i), X, y, cv=K, scoring=\"neg_mean_squared_error\")\n",
    "        pred_error_means[i] = np.mean(pred_error[i])\n",
    "        print k, \"out of 10\"\n",
    "\n",
    "    best_n_components = np.argsort(pred_error_means)[0]\n",
    "    print \"best value for number of components for PCA with 10 cv: \", best_n_components\n",
    "    return best_n_components"
   ]
  },
  {
   "cell_type": "markdown",
   "metadata": {},
   "source": [
    "### Comparison:"
   ]
  },
  {
   "cell_type": "code",
   "execution_count": 329,
   "metadata": {
    "scrolled": true
   },
   "outputs": [
    {
     "name": "stdout",
     "output_type": "stream",
     "text": [
      "1 out of 10\n",
      "2 out of 10\n",
      "3 out of 10\n",
      "4 out of 10\n",
      "5 out of 10\n",
      "6 out of 10\n",
      "7 out of 10\n",
      "8 out of 10\n",
      "9 out of 10\n",
      "10 out of 10\n",
      "best value for number of components for PCA with 10 cv:  129\n"
     ]
    }
   ],
   "source": [
    "best_n_components = find_best_n_components()"
   ]
  },
  {
   "cell_type": "code",
   "execution_count": 344,
   "metadata": {},
   "outputs": [
    {
     "name": "stdout",
     "output_type": "stream",
     "text": [
      "accuracy using PCA with an explained variance of 95%:  0.793281653747\n",
      "accuracy using PCA with cross-validation for number of principal axis:  0.780361757106\n"
     ]
    }
   ],
   "source": [
    "print \"accuracy using PCA with an explained variance of 95%: \", get_accuracy_PCA(n_components=0.95)\n",
    "print \"accuracy using PCA with cross-validation for number of principal axis: \", get_accuracy_PCA(n_components=best_n_components)"
   ]
  },
  {
   "cell_type": "markdown",
   "metadata": {},
   "source": [
    "<b>As we can see, the accuracies using PCA with un explained variance of 95% and using cross-validation for determining the number of principal axis are nearly equal. <br> \n",
    "This means that these criterias for our PCA are equivalent. <br>\n",
    "Note that the second method takes too much time compared to the first. As I'm not sure wether my implementation is optimal, I cannot say that the first method is better</b>"
   ]
  },
  {
   "cell_type": "code",
   "execution_count": null,
   "metadata": {
    "collapsed": true
   },
   "outputs": [],
   "source": []
  }
 ],
 "metadata": {
  "kernelspec": {
   "display_name": "Python 2",
   "language": "python",
   "name": "python2"
  },
  "language_info": {
   "codemirror_mode": {
    "name": "ipython",
    "version": 2
   },
   "file_extension": ".py",
   "mimetype": "text/x-python",
   "name": "python",
   "nbconvert_exporter": "python",
   "pygments_lexer": "ipython2",
   "version": "2.7.13"
  }
 },
 "nbformat": 4,
 "nbformat_minor": 2
}
